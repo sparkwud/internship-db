{
 "cells": [
  {
   "cell_type": "code",
   "execution_count": 1,
   "metadata": {},
   "outputs": [],
   "source": [
    "from pathlib import Path\n",
    "Path(\"internship.db\").touch()"
   ]
  },
  {
   "cell_type": "code",
   "execution_count": 2,
   "metadata": {},
   "outputs": [],
   "source": [
    "import sqlite3"
   ]
  },
  {
   "cell_type": "code",
   "execution_count": 3,
   "metadata": {},
   "outputs": [],
   "source": [
    "conn = sqlite3.connect(\"internship.db\")\n",
    "c = conn.cursor()"
   ]
  },
  {
   "cell_type": "code",
   "execution_count": 4,
   "metadata": {},
   "outputs": [
    {
     "ename": "OperationalError",
     "evalue": "incomplete input",
     "output_type": "error",
     "traceback": [
      "\u001b[1;31m---------------------------------------------------------------------------\u001b[0m",
      "\u001b[1;31mOperationalError\u001b[0m                          Traceback (most recent call last)",
      "Cell \u001b[1;32mIn[4], line 1\u001b[0m\n\u001b[1;32m----> 1\u001b[0m c\u001b[39m.\u001b[39;49mexecute(\u001b[39m\"\u001b[39;49m\u001b[39mCREATE TABLE users (company_name text, company_location text, region text, is_shortlisted boolean\u001b[39;49m\u001b[39m\"\u001b[39;49m)\n",
      "\u001b[1;31mOperationalError\u001b[0m: incomplete input"
     ]
    }
   ],
   "source": [
    "c.execute(\"CREATE TABLE users (company_name text, company_location text, region text, is_shortlisted boolean\")"
   ]
  },
  {
   "cell_type": "code",
   "execution_count": 5,
   "metadata": {},
   "outputs": [
    {
     "ename": "OperationalError",
     "evalue": "incomplete input",
     "output_type": "error",
     "traceback": [
      "\u001b[1;31m---------------------------------------------------------------------------\u001b[0m",
      "\u001b[1;31mOperationalError\u001b[0m                          Traceback (most recent call last)",
      "Cell \u001b[1;32mIn[5], line 1\u001b[0m\n\u001b[1;32m----> 1\u001b[0m c\u001b[39m.\u001b[39;49mexecute(\u001b[39m\"\"\"\u001b[39;49m\u001b[39mCREATE TABLE users (company_name text, company_location text, region text, is_shortlisted boolean\u001b[39;49m\u001b[39m\"\"\"\u001b[39;49m)\n",
      "\u001b[1;31mOperationalError\u001b[0m: incomplete input"
     ]
    }
   ],
   "source": [
    "c.execute(\"\"\"CREATE TABLE users (company_name text, company_location text, region text, is_shortlisted boolean\"\"\")"
   ]
  },
  {
   "cell_type": "code",
   "execution_count": 6,
   "metadata": {},
   "outputs": [
    {
     "data": {
      "text/plain": [
       "<sqlite3.Cursor at 0x28b609d9c40>"
      ]
     },
     "execution_count": 6,
     "metadata": {},
     "output_type": "execute_result"
    }
   ],
   "source": [
    "c.execute(\"\"\"CREATE TABLE internship_data (company_name text, company_location text, region text, is_shortlisted boolean)\"\"\")"
   ]
  },
  {
   "cell_type": "code",
   "execution_count": 7,
   "metadata": {},
   "outputs": [
    {
     "data": {
      "text/plain": [
       "142"
      ]
     },
     "execution_count": 7,
     "metadata": {},
     "output_type": "execute_result"
    }
   ],
   "source": [
    "import pandas as pd\n",
    "# load the data into a Pandas DataFrame\n",
    "internship = pd.read_csv('internship.csv')\n",
    "# write the data to a sqlite table\n",
    "internship.to_sql('internship', conn, if_exists='append', index = False)"
   ]
  },
  {
   "cell_type": "code",
   "execution_count": 8,
   "metadata": {},
   "outputs": [
    {
     "data": {
      "text/plain": [
       "[('Bernica graphics', 'Accra - Newtown', 'GREATER ACCRA', 0),\n",
       " ('Buck Press Ltd', 'Ofankor', 'GREATER ACCRA', 0),\n",
       " ('MTN Ghana', 'Abeka', 'GREATER ACCRA', 0),\n",
       " ('Echo house Ghana limited',\n",
       "  'East legon , American house',\n",
       "  'GREATER ACCRA',\n",
       "  0),\n",
       " ('NND digital press', 'Kokomlemle, circle', 'GREATER ACCRA', 0),\n",
       " ('Elupstra', 'Spintex', 'GREATER ACCRA', 0),\n",
       " ('Doxa Open University, Abro media Campus',\n",
       "  'Dansoman roundabout',\n",
       "  'GREATER ACCRA',\n",
       "  0),\n",
       " ('Doxa open University, Abro Media campus',\n",
       "  'Dansoman roundabout',\n",
       "  'GREATER ACCRA',\n",
       "  0),\n",
       " ('Hood Service', 'Ashale Botw3', 'GREATER ACCRA', 0),\n",
       " ('Tyncad', 'Accra', 'GREATER ACCRA', 0),\n",
       " ('3RD FLOOR DIGITAL (Advertising Agency)',\n",
       "  'Accra- Dzorwulu',\n",
       "  'GREATER ACCRA',\n",
       "  0),\n",
       " ('Eleventh Space', 'North kaneshie', 'GREATER ACCRA', 0),\n",
       " ('Lime and Honey Limited', 'Pantang', 'GREATER ACCRA', 0),\n",
       " ('SolarTaxi Limited', 'Laterbiokorshie', 'GREATER ACCRA', 0),\n",
       " ('Hype.Up Limited', 'ACCRA', 'GREATER ACCRA', 0),\n",
       " ('Kantanka Multimedia Limited', 'Accra -Dansoman', 'GREATER ACCRA', 0),\n",
       " ('Directorate of Public Relation-Burma Camp',\n",
       "  'Burma Camp-Accra',\n",
       "  'GREATER ACCRA',\n",
       "  0),\n",
       " ('Council of Science and Industrial Research',\n",
       "  'Airport Residential Area',\n",
       "  'GREATER ACCRA',\n",
       "  0),\n",
       " ('Multimedia Ghana Limited', 'Accra', 'GREATER ACCRA', 0),\n",
       " ('IseI Media', 'Adenta Dakota No. S', 'GREATER ACCRA', 0),\n",
       " ('Insel Communications', 'Accra', 'GREATER ACCRA', 0),\n",
       " ('Citi TV', 'Adabraka-Accra', 'GREATER ACCRA', 0),\n",
       " ('Ro-Marong Grafix', 'Spintex Road', 'GREATER ACCRA', 0),\n",
       " ('G-Pak Company Ltd', 'Accra', 'GREATER ACCRA', 0),\n",
       " ('Ink it', 'Accra-Newtown', 'GREATER ACCRA', 0),\n",
       " ('Ink it', 'Accra-Newtown', 'GREATER ACCRA', 0),\n",
       " ('Sankofa Tv', 'Kasoa Ayigbe town junction', 'GREATER ACCRA', 0),\n",
       " ('Screen Tech Ghana', 'Palace Town, Anyaa', 'GREATER ACCRA', 0),\n",
       " ('Multimedia Group Limited', 'Kokomlemle', 'GREATER ACCRA', 0),\n",
       " ('Business and Financial Times', 'Asheley Botwe-Madina', 'GREATER ACCRA', 0),\n",
       " ('BLUETOWN GHANA', 'Cantonments-Accra', 'GREATER ACCRA', 0),\n",
       " ('Digicraft Company Limited', 'Accra Dansoman', 'GREATER ACCRA', 0),\n",
       " ('Echo House Ghana Limited', 'East legon', 'GREATER ACCRA', 0),\n",
       " ('Media General Ghana', 'Accra', 'GREATER ACCRA', 0),\n",
       " ('Multimedia Group limited', 'Kokomlemle', 'GREATER ACCRA', 0),\n",
       " ('Echo House Ghana Limited', 'Accra, East Legon', 'GREATER ACCRA', 0),\n",
       " ('MULTIMEDIA GROUP', 'Kokomlemle', 'GREATER ACCRA', 0),\n",
       " ('Multimedia Group', 'Kokomlemle', 'GREATER ACCRA', 0),\n",
       " ('Ghana Broadcasting Cooperation', 'Kanda', 'GREATER ACCRA', 0),\n",
       " ('Adwinsa Publication Ghana Ltd', 'Accra- Agbogba', 'GREATER ACCRA', 0),\n",
       " ('Metro Mass Transit Limited MMTL',\n",
       "  'Accra kaneshie pamprom',\n",
       "  'GREATER ACCRA',\n",
       "  0),\n",
       " ('Eleventh Space', 'Accra/ North Kaneshi', 'GREATER ACCRA', 0),\n",
       " ('MTN GHANA', 'Ashaiman', 'GREATER ACCRA', 0),\n",
       " ('The Multimedia Group', 'Accra/Kokomlemle', 'GREATER ACCRA', 0),\n",
       " ('The Multimedia Group', 'Accra/Kokomlemle', 'GREATER ACCRA', 0),\n",
       " ('Ghana Broadcasting Corporation', 'Kanda Ave, Accra', 'GREATER ACCRA', 0),\n",
       " ('Gh One', 'Accra', 'GREATER ACCRA', 0),\n",
       " ('OMY TV', 'Kwashiebu', 'GREATER ACCRA', 0),\n",
       " ('Echo House', 'East Legon', 'GREATER ACCRA', 0),\n",
       " ('Media General (TV3)', 'Kanda, Accra', 'GREATER ACCRA', 0),\n",
       " ('CREATIVE WRITING ACADEMY',\n",
       "  'Old Achimota Road/ Opposite Acrra Girls Snr High',\n",
       "  'GREATER ACCRA',\n",
       "  0),\n",
       " ('Graphics Communication', 'Graphic Road', 'GREATER ACCRA', 0),\n",
       " ('MX24', 'East Legon', 'GREATER ACCRA', 0),\n",
       " ('Baafo Plus', 'Tema', 'GREATER ACCRA', 0),\n",
       " ('Mx24', 'East Legon', 'GREATER ACCRA', 0),\n",
       " ('AhotorFm', 'Lashibi', 'GREATER ACCRA', 0),\n",
       " ('Enactus Ghana',\n",
       "  'No. 6 ACP Ridge, Pokuase, Box OF 75 Ofankor Volunt‹',\n",
       "  'GREATER ACCRA',\n",
       "  0),\n",
       " ('Msimps', 'Osu', 'GREATER ACCRA', 0),\n",
       " ('Lyme haus Solutions',\n",
       "  '306 King Takie Tawiah Ave, Accra',\n",
       "  'GREATER ACCRA',\n",
       "  0),\n",
       " ('Adwinsa Publications Ghana Limited', 'Agbogba', 'GREATER ACCRA', 0),\n",
       " ('CACI TV', 'Osu', 'GREATER ACCRA', 0),\n",
       " ('Mullen Lowe Accra', 'Osu', 'GREATER ACCRA', 0),\n",
       " ('Colour Drop Impressions',\n",
       "  'East Iegon,opposite chinese palace',\n",
       "  'GREATER ACCRA',\n",
       "  0),\n",
       " ('For Samuel TV', 'Ashaiman', 'GREATER ACCRA', 0),\n",
       " ('Sixtus Printing House', 'Tema', 'GREATER ACCRA', 0),\n",
       " ('MX24', 'East Legon', 'GREATER ACCRA', 0),\n",
       " ('TV3', 'Adesawe Kanda', 'GREATER ACCRA', 0),\n",
       " ('Tyncad', 'Accra', 'GREATER ACCRA', 0),\n",
       " ('AMPIAH KWOFI WORLD OUTREACH',\n",
       "  'ACCRA, NARHMAN RD, HAATSO MANAGOLANE',\n",
       "  'GREATER ACCRA',\n",
       "  0),\n",
       " ('Triple Colors', 'Lebanon', 'GREATER ACCRA', 0),\n",
       " ('Ghana Broadcasting Corporation (GBC)', 'Kanda-Accra', 'GREATER ACCRA', 0),\n",
       " ('Multimedia Group', 'Accra', 'GREATER ACCRA', 0),\n",
       " ('Gbc', 'Accra', 'GREATER ACCRA', 0),\n",
       " ('Rissemma', 'Accra, Dansoman', 'GREATER ACCRA', 0),\n",
       " ('Multimedia Group', 'Kokomlemle', 'GREATER ACCRA', 0),\n",
       " ('Pent TV', 'Accra/Labadi', 'GREATER ACCRA', 0),\n",
       " ('Seloartgroup', 'Pokuase', 'GREATER ACCRA', 0),\n",
       " ('Tv Xyz', 'Osu', 'GREATER ACCRA', 0),\n",
       " ('LetiArts', 'Accra, Obojo', 'GREATER ACCRA', 0),\n",
       " ('Lynx Graphix', 'Accra New town', 'GREATER ACCRA', 0),\n",
       " ('Graphic Communication Group Limited (GCGL)', 'Accra', 'GREATER ACCRA', 0),\n",
       " ('Teklogic solutions', 'Tema', 'GREATER ACCRA', 0),\n",
       " ('Digicraft', 'Dansoman', 'GREATER ACCRA', 0),\n",
       " ('DREAMbrander NETWORK (DBN)', 'Bomso , Kumasi', 'ASHANTI', 0),\n",
       " ('DreamBrander Network', 'Bomso', 'ASHANTI', 0),\n",
       " ('DreamBrander Network', 'Bomso', 'ASHANTI', 0),\n",
       " ('TekTv', 'kumasi', 'ASHANTI', 0),\n",
       " ('Royal Broadcasting Limited', 'Ahodwo Nyiaeso', 'ASHANTI', 0),\n",
       " ('Focus Fm', 'Knust/kumasi', 'ASHANTI', 0),\n",
       " ('Alba pharmacy', 'Adum', 'ASHANTI', 0),\n",
       " ('EBOPAG ART', 'Kamasi', 'ASHANTI', 0),\n",
       " ('Focus Fm Knust', 'KNUST/Kumasi', 'ASHANTI', 0),\n",
       " ('Focus fm', 'Knust/Kumasi', 'ASHANTI', 0),\n",
       " ('TV3 Kumasi', 'Asokwa', 'ASHANTI', 0),\n",
       " ('Sesi Technologies',\n",
       "  'KNUST (Newsite - opposite UCOMS junction)',\n",
       "  'ASHANTI',\n",
       "  0),\n",
       " ('akoma fm kumasi', 'kumasi', 'ASHANTI', 0),\n",
       " ('Tek tv', 'Kumasi', 'ASHANTI', 0),\n",
       " ('Kobbyclick studios', 'Kumasi', 'ASHANTI', 0),\n",
       " ('Focus FM', 'KNUST', 'ASHANTI', 0),\n",
       " ('Photo store', 'Kumasi-Amakom', 'ASHANTI', 0),\n",
       " ('Ororo tv', 'Anloga junction', 'ASHANTI', 0),\n",
       " ('Women’s haven Africa', 'Asokwa', 'ASHANTI', 0),\n",
       " ('Benson Printing Press', 'Asafo-Kumasi', 'ASHANTI', 0),\n",
       " ('Jerry William Co. Ltd.', 'Fumesua, Okyerekrom', 'ASHANTI', 0),\n",
       " ('Cc creatives', 'Adum', 'ASHANTI', 0),\n",
       " ('TV3 Kumasi', 'Asokwa', 'ASHANTI', 0),\n",
       " ('TV3 Kumasi', 'Asokwa', 'ASHANTI', 0),\n",
       " ('Keak Studios', 'Kotei, Kumasi', 'ASHANTI', 0),\n",
       " ('Saytom Multmedia', 'Kumasi. Apotuogya', 'ASHANTI', 0),\n",
       " ('Christine Prints and Advertising', 'Asafo', 'ASHANTI', 0),\n",
       " ('EBOPAG ART', 'Adum, Kumasi', 'ASHANTI', 0),\n",
       " ('University Printing Press,', 'Kumasi, KNUST', 'ASHANTI', 0),\n",
       " ('Media General', 'Asokwa', 'ASHANTI', 0),\n",
       " ('University Printing Press-Kumasi', 'KNUST Campus', 'ASHANTI', 0),\n",
       " ('Media General Ghana', 'Asokwa', 'ASHANTI', 0),\n",
       " ('Focus FM - KNUST', 'KNUST', 'ASHANTI', 0),\n",
       " ('PLUZMEDIA', 'SUNYANI', 'BONO', 0),\n",
       " ('DYNAMIC STUDIO', 'Sunyani', 'BONO', 0),\n",
       " ('Solution Multimedia', 'Jema', 'BONO EAST', 0),\n",
       " ('Cobby Advertising Agency', 'Sunyani', 'BONO', 0),\n",
       " ('Nyce Media', 'Winneba', 'CENRAL', 0),\n",
       " ('Documentation and Information Section (UCC)', 'Cape Coast', 'CENRAL', 0),\n",
       " ('Goal consult', 'Kasoa', 'CENRAL', 0),\n",
       " ('ThinkTech LLC', 'Kasoa', 'CENRAL', 0),\n",
       " ('Brand Juice Studio', 'Kasoa', 'CENRAL', 0),\n",
       " ('UNIVERSITY OF CAPE COAST', 'CAPE COAST', 'CENRAL', 0),\n",
       " ('Future makers', 'Kasoa', 'CENRAL', 0),\n",
       " ('estep concepts', 'Akim Oda', 'EASTERN', 0),\n",
       " ('Geomage and Sons Limited', 'Koforidua', 'EASTERN', 0),\n",
       " ('STARR TV', 'Koforidua', 'EASTERN', 0),\n",
       " ('STARR TV', 'Koforidua', 'EASTERN', 0),\n",
       " ('GEOMAGE & SONS CO. LTD', 'KOFORIDUA', 'EASTERN', 0),\n",
       " ('Geomage and Sons Company Limited', 'Koforidua', 'EASTERN', 0),\n",
       " ('Volta River Authority( Communication department)',\n",
       "  'Akosombo',\n",
       "  'EASTERN',\n",
       "  0),\n",
       " ('EMAK FM', 'Koforidua', 'EASTERN', 0),\n",
       " ('GBC Sunrise FM', 'Effiduase, Koforidua', 'EASTERN', 0),\n",
       " (None, 'Dabala', 'VOLTA', 0),\n",
       " ('FreshCoat designs', 'Takoradi', 'WESTERN', 0),\n",
       " ('SEEDCO Engineering &Contrution limited', 'Tarkwa', 'WESTERN', 0),\n",
       " ('Jangos Signs and Graphics Limited', 'Kwesimintsim-Sawmill', 'WESTERN', 0),\n",
       " ('Ajumakoman Press Limited', 'Takoradi', 'WESTERN', 0),\n",
       " ('Ngage Media Global',\n",
       "  '#1 Kumasi Crescent, Wuse 2, Abuja',\n",
       "  'Abuja, Nigeria',\n",
       "  0)]"
      ]
     },
     "execution_count": 8,
     "metadata": {},
     "output_type": "execute_result"
    }
   ],
   "source": [
    "c.execute('''SELECT * FROM internship''').fetchall() \n"
   ]
  },
  {
   "cell_type": "code",
   "execution_count": null,
   "metadata": {},
   "outputs": [],
   "source": []
  }
 ],
 "metadata": {
  "kernelspec": {
   "display_name": "Python 3",
   "language": "python",
   "name": "python3"
  },
  "language_info": {
   "codemirror_mode": {
    "name": "ipython",
    "version": 3
   },
   "file_extension": ".py",
   "mimetype": "text/x-python",
   "name": "python",
   "nbconvert_exporter": "python",
   "pygments_lexer": "ipython3",
   "version": "3.11.2"
  },
  "orig_nbformat": 4
 },
 "nbformat": 4,
 "nbformat_minor": 2
}
